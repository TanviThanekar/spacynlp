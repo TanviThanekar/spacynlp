{
 "cells": [
  {
   "cell_type": "code",
   "execution_count": 31,
   "metadata": {},
   "outputs": [
    {
     "data": {
      "text/plain": [
       "[{'text': 'Elon Musk', 'type': 'ORG', 'start_pos': 0, 'end_pos': 9},\n",
       " {'text': 'USA', 'type': 'GPE', 'start_pos': 32, 'end_pos': 35},\n",
       " {'text': 'Twitter', 'type': 'ORG', 'start_pos': 52, 'end_pos': 59}]"
      ]
     },
     "execution_count": 31,
     "metadata": {},
     "output_type": "execute_result"
    }
   ],
   "source": [
    "import spacy\n",
    "\n",
    "def multilingual_ner(text, lang='en'):\n",
    "  nlp = spacy.load(f\"{lang}_core_web_sm\")\n",
    "  doc= nlp(text)\n",
    "  dicos= list()\n",
    "  for ent in doc.ents:\n",
    "    dico= dict()\n",
    "    dico[\"text\"]= ent.text\n",
    "    dico[\"type\"]= ent.label_\n",
    "    dico[\"start_pos\"]= ent.start_char\n",
    "    dico[\"end_pos\"]= ent.end_char\n",
    "    dicos.append(dico)\n",
    "  return dicos\n",
    "  \n",
    "multilingual_ner(\"Elon Musk is the richest man in USA after acquiring Twitter\")\n"
   ]
  },
  {
   "cell_type": "code",
   "execution_count": 26,
   "metadata": {},
   "outputs": [
    {
     "data": {
      "text/plain": [
       "[]"
      ]
     },
     "execution_count": 26,
     "metadata": {},
     "output_type": "execute_result"
    }
   ],
   "source": [
    "#different codes can be used\n",
    "\n",
    "{\n",
    "      'ca': 'ca_core_news_sm',\n",
    "      'zh': 'zh_core_web_sm',\n",
    "      'da': 'da_core_news_sm',\n",
    "      'nl': 'nl_core_news_sm',\n",
    "      'en': 'en_core_web_sm',\n",
    "      'fi': 'fi_core_news_sm',\n",
    "      'fr': 'fr_core_news_sm',\n",
    "      'de': 'de_core_news_sm',\n",
    "      'el': 'el_core_news_sm',\n",
    "      'it': 'it_core_news_sm',\n",
    "      'ja': 'ja_core_news_sm',\n",
    "      'ko': 'ko_core_news_sm',\n",
    "      'lt': 'lt_core_news_sm',\n",
    "      'mk': 'mk_core_news_sm',\n",
    "      'nb': 'nb_core_news_sm',\n",
    "      'pl': 'pl_core_news_sm',\n",
    "      'pt': 'pt_core_news_sm',\n",
    "   }"
   ]
  },
  {
   "cell_type": "code",
   "execution_count": null,
   "metadata": {},
   "outputs": [],
   "source": []
  }
 ],
 "metadata": {
  "kernelspec": {
   "display_name": "Python 3",
   "language": "python",
   "name": "python3"
  },
  "language_info": {
   "codemirror_mode": {
    "name": "ipython",
    "version": 3
   },
   "file_extension": ".py",
   "mimetype": "text/x-python",
   "name": "python",
   "nbconvert_exporter": "python",
   "pygments_lexer": "ipython3",
   "version": "3.7.6"
  }
 },
 "nbformat": 4,
 "nbformat_minor": 4
}
